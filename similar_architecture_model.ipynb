{
  "cells": [
    {
      "cell_type": "code",
      "execution_count": null,
      "metadata": {},
      "outputs": [],
      "source": [
        "import numpy as np\n",
        "from keras.models import Model\n",
        "from keras.layers import Input, Conv1D, MaxPooling1D, Dropout, Bidirectional, LSTM, Flatten, Dense, ReLU\n",
        "from keras.optimizers import Nadam\n",
        "from keras.losses import BinaryCrossentropy\n"
      ]
    },
    {
      "cell_type": "code",
      "execution_count": null,
      "metadata": {},
      "outputs": [],
      "source": [
        "window_size = 100\n",
        "X_train = np.random.rand(10, window_size+3, 4)\n",
        "y_train = np.random.randint(0, 2, size=(10, 1))\n"
      ]
    },
    {
      "cell_type": "code",
      "execution_count": null,
      "metadata": {},
      "outputs": [],
      "source": [
        "model_input_seq = Input(shape=[window_size+3, 4])\n",
        "x = ReLU()(Conv1D(512, 8, padding='valid', strides=1, name='seq_conv')(model_input_seq))\n",
        "x = MaxPooling1D(pool_size=3, strides=3, name='bin_pool')(x)\n",
        "x = Dropout(0.3)(x)\n",
        "x = Bidirectional(LSTM(units=16, return_sequences=True, name='bin_lstm'))(x)\n",
        "x = Flatten(name='conv_flatten')(x)\n",
        "bin_x = ReLU()(Dense(512, kernel_initializer='glorot_uniform', name='bin_dense0')(x))\n",
        "bin_x = Dropout(0.5)(bin_x)\n",
        "bin_x = ReLU()(Dense(256, kernel_initializer='glorot_uniform', name='bin_dense1')(bin_x))\n",
        "bin_x = Dropout(0.5)(bin_x)\n",
        "bin_x = ReLU()(Dense(256, kernel_initializer='glorot_uniform', name='bin_dense2')(bin_x))\n",
        "bin_x = Dropout(0.5)(bin_x)\n",
        "bin_x = ReLU()(Dense(64, name='bin_dense4')(bin_x))\n",
        "bin_x = Dense(1, activation='sigmoid', name='class_predictions')(bin_x)\n",
        "model = Model(inputs=model_input_seq, outputs=bin_x, name='model')\n",
        "model.compile(optimizer=Nadam(learning_rate=0.001),\n",
        "              loss=BinaryCrossentropy(reduction='sum_over_batch_size', name='binary_crossentropy'))\n",
        "model.summary()\n"
      ]
    }
  ],
  "metadata": {
    "kernelspec": {
      "display_name": "Python 3",
      "language": "python",
      "name": "python3"
    },
    "language_info": {
      "name": "python",
      "version": "3.11.12",
      "mimetype": "text/x-python",
      "codemirror_mode": {
        "name": "ipython",
        "version": 3
      },
      "pygments_lexer": "ipython3",
      "nbconvert_exporter": "python",
      "file_extension": ".py"
    }
  },
  "nbformat": 4,
  "nbformat_minor": 5
}